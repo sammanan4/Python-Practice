{
 "cells": [
  {
   "cell_type": "markdown",
   "id": "eaff9f10",
   "metadata": {},
   "source": [
    "<h3> Working with dates </h3>"
   ]
  },
  {
   "cell_type": "code",
   "execution_count": 8,
   "id": "d1337f2f",
   "metadata": {},
   "outputs": [],
   "source": [
    "import pandas as pd\n",
    "from datetime import datetime"
   ]
  },
  {
   "cell_type": "code",
   "execution_count": 2,
   "id": "7a365437",
   "metadata": {},
   "outputs": [],
   "source": [
    "eth_df = pd.read_csv('ethereumprice_org.csv')"
   ]
  },
  {
   "cell_type": "code",
   "execution_count": 4,
   "id": "48f52f9c",
   "metadata": {},
   "outputs": [
    {
     "data": {
      "text/html": [
       "<div>\n",
       "<style scoped>\n",
       "    .dataframe tbody tr th:only-of-type {\n",
       "        vertical-align: middle;\n",
       "    }\n",
       "\n",
       "    .dataframe tbody tr th {\n",
       "        vertical-align: top;\n",
       "    }\n",
       "\n",
       "    .dataframe thead th {\n",
       "        text-align: right;\n",
       "    }\n",
       "</style>\n",
       "<table border=\"1\" class=\"dataframe\">\n",
       "  <thead>\n",
       "    <tr style=\"text-align: right;\">\n",
       "      <th></th>\n",
       "      <th>timestamp</th>\n",
       "      <th>open</th>\n",
       "      <th>high</th>\n",
       "      <th>low</th>\n",
       "      <th>close</th>\n",
       "    </tr>\n",
       "  </thead>\n",
       "  <tbody>\n",
       "    <tr>\n",
       "      <th>0</th>\n",
       "      <td>1623542400</td>\n",
       "      <td>2370.724416</td>\n",
       "      <td>undefined</td>\n",
       "      <td>undefined</td>\n",
       "      <td>undefined</td>\n",
       "    </tr>\n",
       "    <tr>\n",
       "      <th>1</th>\n",
       "      <td>1623456000</td>\n",
       "      <td>2354.813968</td>\n",
       "      <td>2447.568010857967</td>\n",
       "      <td>2261.86707542377</td>\n",
       "      <td>2367.97618080739</td>\n",
       "    </tr>\n",
       "    <tr>\n",
       "      <th>2</th>\n",
       "      <td>1623369600</td>\n",
       "      <td>2470.997379</td>\n",
       "      <td>2495.12396019085</td>\n",
       "      <td>2322.617204110257</td>\n",
       "      <td>2352.675589833701</td>\n",
       "    </tr>\n",
       "    <tr>\n",
       "      <th>3</th>\n",
       "      <td>1623283200</td>\n",
       "      <td>2610.633938</td>\n",
       "      <td>2621.5144645105865</td>\n",
       "      <td>2433.3857468413585</td>\n",
       "      <td>2470.4736784482952</td>\n",
       "    </tr>\n",
       "    <tr>\n",
       "      <th>4</th>\n",
       "      <td>1623196800</td>\n",
       "      <td>2509.048145</td>\n",
       "      <td>2623.7007639183257</td>\n",
       "      <td>2409.4014825151694</td>\n",
       "      <td>2607.626355089492</td>\n",
       "    </tr>\n",
       "  </tbody>\n",
       "</table>\n",
       "</div>"
      ],
      "text/plain": [
       "    timestamp         open                high                 low  \\\n",
       "0  1623542400  2370.724416           undefined           undefined   \n",
       "1  1623456000  2354.813968   2447.568010857967    2261.86707542377   \n",
       "2  1623369600  2470.997379    2495.12396019085   2322.617204110257   \n",
       "3  1623283200  2610.633938  2621.5144645105865  2433.3857468413585   \n",
       "4  1623196800  2509.048145  2623.7007639183257  2409.4014825151694   \n",
       "\n",
       "                close  \n",
       "0           undefined  \n",
       "1    2367.97618080739  \n",
       "2   2352.675589833701  \n",
       "3  2470.4736784482952  \n",
       "4   2607.626355089492  "
      ]
     },
     "execution_count": 4,
     "metadata": {},
     "output_type": "execute_result"
    }
   ],
   "source": [
    "eth_df.head()"
   ]
  },
  {
   "cell_type": "code",
   "execution_count": 14,
   "id": "9fb085e2",
   "metadata": {},
   "outputs": [],
   "source": [
    "# convert timestamp to datetime string\n",
    "eth_df['timestamp'] = eth_df['timestamp'].apply(lambda x: datetime.strftime(datetime.fromtimestamp(x), '%Y-%m-%d %I:%M %p'))"
   ]
  },
  {
   "cell_type": "code",
   "execution_count": 17,
   "id": "94a84a27",
   "metadata": {},
   "outputs": [],
   "source": [
    "# method to convert time strings to datetime objects \n",
    "eth_df['timestamp'] = pd.to_datetime(eth_df['timestamp'], format='%Y-%m-%d %I:%M %p')"
   ]
  },
  {
   "cell_type": "code",
   "execution_count": 18,
   "id": "bd119765",
   "metadata": {},
   "outputs": [
    {
     "data": {
      "text/html": [
       "<div>\n",
       "<style scoped>\n",
       "    .dataframe tbody tr th:only-of-type {\n",
       "        vertical-align: middle;\n",
       "    }\n",
       "\n",
       "    .dataframe tbody tr th {\n",
       "        vertical-align: top;\n",
       "    }\n",
       "\n",
       "    .dataframe thead th {\n",
       "        text-align: right;\n",
       "    }\n",
       "</style>\n",
       "<table border=\"1\" class=\"dataframe\">\n",
       "  <thead>\n",
       "    <tr style=\"text-align: right;\">\n",
       "      <th></th>\n",
       "      <th>timestamp</th>\n",
       "      <th>open</th>\n",
       "      <th>high</th>\n",
       "      <th>low</th>\n",
       "      <th>close</th>\n",
       "    </tr>\n",
       "  </thead>\n",
       "  <tbody>\n",
       "    <tr>\n",
       "      <th>0</th>\n",
       "      <td>2021-06-13 05:30:00</td>\n",
       "      <td>2370.724416</td>\n",
       "      <td>undefined</td>\n",
       "      <td>undefined</td>\n",
       "      <td>undefined</td>\n",
       "    </tr>\n",
       "    <tr>\n",
       "      <th>1</th>\n",
       "      <td>2021-06-12 05:30:00</td>\n",
       "      <td>2354.813968</td>\n",
       "      <td>2447.568010857967</td>\n",
       "      <td>2261.86707542377</td>\n",
       "      <td>2367.97618080739</td>\n",
       "    </tr>\n",
       "    <tr>\n",
       "      <th>2</th>\n",
       "      <td>2021-06-11 05:30:00</td>\n",
       "      <td>2470.997379</td>\n",
       "      <td>2495.12396019085</td>\n",
       "      <td>2322.617204110257</td>\n",
       "      <td>2352.675589833701</td>\n",
       "    </tr>\n",
       "    <tr>\n",
       "      <th>3</th>\n",
       "      <td>2021-06-10 05:30:00</td>\n",
       "      <td>2610.633938</td>\n",
       "      <td>2621.5144645105865</td>\n",
       "      <td>2433.3857468413585</td>\n",
       "      <td>2470.4736784482952</td>\n",
       "    </tr>\n",
       "    <tr>\n",
       "      <th>4</th>\n",
       "      <td>2021-06-09 05:30:00</td>\n",
       "      <td>2509.048145</td>\n",
       "      <td>2623.7007639183257</td>\n",
       "      <td>2409.4014825151694</td>\n",
       "      <td>2607.626355089492</td>\n",
       "    </tr>\n",
       "  </tbody>\n",
       "</table>\n",
       "</div>"
      ],
      "text/plain": [
       "            timestamp         open                high                 low  \\\n",
       "0 2021-06-13 05:30:00  2370.724416           undefined           undefined   \n",
       "1 2021-06-12 05:30:00  2354.813968   2447.568010857967    2261.86707542377   \n",
       "2 2021-06-11 05:30:00  2470.997379    2495.12396019085   2322.617204110257   \n",
       "3 2021-06-10 05:30:00  2610.633938  2621.5144645105865  2433.3857468413585   \n",
       "4 2021-06-09 05:30:00  2509.048145  2623.7007639183257  2409.4014825151694   \n",
       "\n",
       "                close  \n",
       "0           undefined  \n",
       "1    2367.97618080739  \n",
       "2   2352.675589833701  \n",
       "3  2470.4736784482952  \n",
       "4   2607.626355089492  "
      ]
     },
     "execution_count": 18,
     "metadata": {},
     "output_type": "execute_result"
    }
   ],
   "source": [
    "eth_df.head()"
   ]
  },
  {
   "cell_type": "code",
   "execution_count": 23,
   "id": "a450771a",
   "metadata": {},
   "outputs": [],
   "source": [
    "# another method\n",
    "d_parser = lambda x: datetime.fromtimestamp(int(x))\n",
    "eth_df_2 = pd.read_csv('ethereumprice_org.csv', parse_dates=['timestamp'], date_parser=d_parser)"
   ]
  },
  {
   "cell_type": "code",
   "execution_count": 25,
   "id": "bd887215",
   "metadata": {},
   "outputs": [
    {
     "data": {
      "text/html": [
       "<div>\n",
       "<style scoped>\n",
       "    .dataframe tbody tr th:only-of-type {\n",
       "        vertical-align: middle;\n",
       "    }\n",
       "\n",
       "    .dataframe tbody tr th {\n",
       "        vertical-align: top;\n",
       "    }\n",
       "\n",
       "    .dataframe thead th {\n",
       "        text-align: right;\n",
       "    }\n",
       "</style>\n",
       "<table border=\"1\" class=\"dataframe\">\n",
       "  <thead>\n",
       "    <tr style=\"text-align: right;\">\n",
       "      <th></th>\n",
       "      <th>timestamp</th>\n",
       "      <th>open</th>\n",
       "      <th>high</th>\n",
       "      <th>low</th>\n",
       "      <th>close</th>\n",
       "    </tr>\n",
       "  </thead>\n",
       "  <tbody>\n",
       "    <tr>\n",
       "      <th>0</th>\n",
       "      <td>2021-06-13 05:30:00</td>\n",
       "      <td>2370.724416</td>\n",
       "      <td>undefined</td>\n",
       "      <td>undefined</td>\n",
       "      <td>undefined</td>\n",
       "    </tr>\n",
       "    <tr>\n",
       "      <th>1</th>\n",
       "      <td>2021-06-12 05:30:00</td>\n",
       "      <td>2354.813968</td>\n",
       "      <td>2447.568010857967</td>\n",
       "      <td>2261.86707542377</td>\n",
       "      <td>2367.97618080739</td>\n",
       "    </tr>\n",
       "    <tr>\n",
       "      <th>2</th>\n",
       "      <td>2021-06-11 05:30:00</td>\n",
       "      <td>2470.997379</td>\n",
       "      <td>2495.12396019085</td>\n",
       "      <td>2322.617204110257</td>\n",
       "      <td>2352.675589833701</td>\n",
       "    </tr>\n",
       "    <tr>\n",
       "      <th>3</th>\n",
       "      <td>2021-06-10 05:30:00</td>\n",
       "      <td>2610.633938</td>\n",
       "      <td>2621.5144645105865</td>\n",
       "      <td>2433.3857468413585</td>\n",
       "      <td>2470.4736784482952</td>\n",
       "    </tr>\n",
       "    <tr>\n",
       "      <th>4</th>\n",
       "      <td>2021-06-09 05:30:00</td>\n",
       "      <td>2509.048145</td>\n",
       "      <td>2623.7007639183257</td>\n",
       "      <td>2409.4014825151694</td>\n",
       "      <td>2607.626355089492</td>\n",
       "    </tr>\n",
       "  </tbody>\n",
       "</table>\n",
       "</div>"
      ],
      "text/plain": [
       "            timestamp         open                high                 low  \\\n",
       "0 2021-06-13 05:30:00  2370.724416           undefined           undefined   \n",
       "1 2021-06-12 05:30:00  2354.813968   2447.568010857967    2261.86707542377   \n",
       "2 2021-06-11 05:30:00  2470.997379    2495.12396019085   2322.617204110257   \n",
       "3 2021-06-10 05:30:00  2610.633938  2621.5144645105865  2433.3857468413585   \n",
       "4 2021-06-09 05:30:00  2509.048145  2623.7007639183257  2409.4014825151694   \n",
       "\n",
       "                close  \n",
       "0           undefined  \n",
       "1    2367.97618080739  \n",
       "2   2352.675589833701  \n",
       "3  2470.4736784482952  \n",
       "4   2607.626355089492  "
      ]
     },
     "execution_count": 25,
     "metadata": {},
     "output_type": "execute_result"
    }
   ],
   "source": [
    "eth_df_2.head()"
   ]
  },
  {
   "cell_type": "code",
   "execution_count": 29,
   "id": "ff275614",
   "metadata": {},
   "outputs": [
    {
     "data": {
      "text/plain": [
       "'Sunday'"
      ]
     },
     "execution_count": 29,
     "metadata": {},
     "output_type": "execute_result"
    }
   ],
   "source": [
    "eth_df_2.loc[0, 'timestamp'].day_name()"
   ]
  },
  {
   "cell_type": "code",
   "execution_count": 36,
   "id": "2f923ce4",
   "metadata": {},
   "outputs": [],
   "source": [
    "# get days of all the dates (by using dt object of series)\n",
    "eth_df_2['day'] = eth_df_2['timestamp'].dt.day_name()"
   ]
  },
  {
   "cell_type": "code",
   "execution_count": 37,
   "id": "2d6d7c62",
   "metadata": {},
   "outputs": [
    {
     "data": {
      "text/html": [
       "<div>\n",
       "<style scoped>\n",
       "    .dataframe tbody tr th:only-of-type {\n",
       "        vertical-align: middle;\n",
       "    }\n",
       "\n",
       "    .dataframe tbody tr th {\n",
       "        vertical-align: top;\n",
       "    }\n",
       "\n",
       "    .dataframe thead th {\n",
       "        text-align: right;\n",
       "    }\n",
       "</style>\n",
       "<table border=\"1\" class=\"dataframe\">\n",
       "  <thead>\n",
       "    <tr style=\"text-align: right;\">\n",
       "      <th></th>\n",
       "      <th>timestamp</th>\n",
       "      <th>open</th>\n",
       "      <th>high</th>\n",
       "      <th>low</th>\n",
       "      <th>close</th>\n",
       "      <th>day</th>\n",
       "    </tr>\n",
       "  </thead>\n",
       "  <tbody>\n",
       "    <tr>\n",
       "      <th>0</th>\n",
       "      <td>2021-06-13 05:30:00</td>\n",
       "      <td>2370.724416</td>\n",
       "      <td>undefined</td>\n",
       "      <td>undefined</td>\n",
       "      <td>undefined</td>\n",
       "      <td>Sunday</td>\n",
       "    </tr>\n",
       "    <tr>\n",
       "      <th>1</th>\n",
       "      <td>2021-06-12 05:30:00</td>\n",
       "      <td>2354.813968</td>\n",
       "      <td>2447.568010857967</td>\n",
       "      <td>2261.86707542377</td>\n",
       "      <td>2367.97618080739</td>\n",
       "      <td>Saturday</td>\n",
       "    </tr>\n",
       "    <tr>\n",
       "      <th>2</th>\n",
       "      <td>2021-06-11 05:30:00</td>\n",
       "      <td>2470.997379</td>\n",
       "      <td>2495.12396019085</td>\n",
       "      <td>2322.617204110257</td>\n",
       "      <td>2352.675589833701</td>\n",
       "      <td>Friday</td>\n",
       "    </tr>\n",
       "    <tr>\n",
       "      <th>3</th>\n",
       "      <td>2021-06-10 05:30:00</td>\n",
       "      <td>2610.633938</td>\n",
       "      <td>2621.5144645105865</td>\n",
       "      <td>2433.3857468413585</td>\n",
       "      <td>2470.4736784482952</td>\n",
       "      <td>Thursday</td>\n",
       "    </tr>\n",
       "    <tr>\n",
       "      <th>4</th>\n",
       "      <td>2021-06-09 05:30:00</td>\n",
       "      <td>2509.048145</td>\n",
       "      <td>2623.7007639183257</td>\n",
       "      <td>2409.4014825151694</td>\n",
       "      <td>2607.626355089492</td>\n",
       "      <td>Wednesday</td>\n",
       "    </tr>\n",
       "  </tbody>\n",
       "</table>\n",
       "</div>"
      ],
      "text/plain": [
       "            timestamp         open                high                 low  \\\n",
       "0 2021-06-13 05:30:00  2370.724416           undefined           undefined   \n",
       "1 2021-06-12 05:30:00  2354.813968   2447.568010857967    2261.86707542377   \n",
       "2 2021-06-11 05:30:00  2470.997379    2495.12396019085   2322.617204110257   \n",
       "3 2021-06-10 05:30:00  2610.633938  2621.5144645105865  2433.3857468413585   \n",
       "4 2021-06-09 05:30:00  2509.048145  2623.7007639183257  2409.4014825151694   \n",
       "\n",
       "                close        day  \n",
       "0           undefined     Sunday  \n",
       "1    2367.97618080739   Saturday  \n",
       "2   2352.675589833701     Friday  \n",
       "3  2470.4736784482952   Thursday  \n",
       "4   2607.626355089492  Wednesday  "
      ]
     },
     "execution_count": 37,
     "metadata": {},
     "output_type": "execute_result"
    }
   ],
   "source": [
    "eth_df_2.head()"
   ]
  },
  {
   "cell_type": "code",
   "execution_count": 43,
   "id": "577ec2ce",
   "metadata": {},
   "outputs": [
    {
     "data": {
      "text/plain": [
       "Timestamp('2021-05-13 05:30:00')"
      ]
     },
     "execution_count": 43,
     "metadata": {},
     "output_type": "execute_result"
    }
   ],
   "source": [
    "eth_df_2['timestamp'].min()"
   ]
  },
  {
   "cell_type": "code",
   "execution_count": 45,
   "id": "f60a9c45",
   "metadata": {},
   "outputs": [
    {
     "data": {
      "text/plain": [
       "Timestamp('2021-06-13 05:30:00')"
      ]
     },
     "execution_count": 45,
     "metadata": {},
     "output_type": "execute_result"
    }
   ],
   "source": [
    "eth_df_2['timestamp'].max()"
   ]
  },
  {
   "cell_type": "code",
   "execution_count": 49,
   "id": "4943c4a9",
   "metadata": {},
   "outputs": [],
   "source": [
    "eth_df_2.replace('undefined', 0, inplace=True)"
   ]
  },
  {
   "cell_type": "code",
   "execution_count": 50,
   "id": "799679dc",
   "metadata": {},
   "outputs": [],
   "source": [
    "\n",
    "eth_df_2.set_index('timestamp', inplace=True)"
   ]
  },
  {
   "cell_type": "code",
   "execution_count": 51,
   "id": "c208922c",
   "metadata": {},
   "outputs": [
    {
     "data": {
      "text/html": [
       "<div>\n",
       "<style scoped>\n",
       "    .dataframe tbody tr th:only-of-type {\n",
       "        vertical-align: middle;\n",
       "    }\n",
       "\n",
       "    .dataframe tbody tr th {\n",
       "        vertical-align: top;\n",
       "    }\n",
       "\n",
       "    .dataframe thead th {\n",
       "        text-align: right;\n",
       "    }\n",
       "</style>\n",
       "<table border=\"1\" class=\"dataframe\">\n",
       "  <thead>\n",
       "    <tr style=\"text-align: right;\">\n",
       "      <th></th>\n",
       "      <th>open</th>\n",
       "      <th>high</th>\n",
       "      <th>low</th>\n",
       "      <th>close</th>\n",
       "      <th>day</th>\n",
       "    </tr>\n",
       "    <tr>\n",
       "      <th>timestamp</th>\n",
       "      <th></th>\n",
       "      <th></th>\n",
       "      <th></th>\n",
       "      <th></th>\n",
       "      <th></th>\n",
       "    </tr>\n",
       "  </thead>\n",
       "  <tbody>\n",
       "    <tr>\n",
       "      <th>2021-06-13 05:30:00</th>\n",
       "      <td>2370.724416</td>\n",
       "      <td>0</td>\n",
       "      <td>0</td>\n",
       "      <td>0</td>\n",
       "      <td>Sunday</td>\n",
       "    </tr>\n",
       "    <tr>\n",
       "      <th>2021-06-12 05:30:00</th>\n",
       "      <td>2354.813968</td>\n",
       "      <td>2447.568010857967</td>\n",
       "      <td>2261.86707542377</td>\n",
       "      <td>2367.97618080739</td>\n",
       "      <td>Saturday</td>\n",
       "    </tr>\n",
       "    <tr>\n",
       "      <th>2021-06-11 05:30:00</th>\n",
       "      <td>2470.997379</td>\n",
       "      <td>2495.12396019085</td>\n",
       "      <td>2322.617204110257</td>\n",
       "      <td>2352.675589833701</td>\n",
       "      <td>Friday</td>\n",
       "    </tr>\n",
       "    <tr>\n",
       "      <th>2021-06-10 05:30:00</th>\n",
       "      <td>2610.633938</td>\n",
       "      <td>2621.5144645105865</td>\n",
       "      <td>2433.3857468413585</td>\n",
       "      <td>2470.4736784482952</td>\n",
       "      <td>Thursday</td>\n",
       "    </tr>\n",
       "    <tr>\n",
       "      <th>2021-06-09 05:30:00</th>\n",
       "      <td>2509.048145</td>\n",
       "      <td>2623.7007639183257</td>\n",
       "      <td>2409.4014825151694</td>\n",
       "      <td>2607.626355089492</td>\n",
       "      <td>Wednesday</td>\n",
       "    </tr>\n",
       "  </tbody>\n",
       "</table>\n",
       "</div>"
      ],
      "text/plain": [
       "                            open                high                 low  \\\n",
       "timestamp                                                                  \n",
       "2021-06-13 05:30:00  2370.724416                   0                   0   \n",
       "2021-06-12 05:30:00  2354.813968   2447.568010857967    2261.86707542377   \n",
       "2021-06-11 05:30:00  2470.997379    2495.12396019085   2322.617204110257   \n",
       "2021-06-10 05:30:00  2610.633938  2621.5144645105865  2433.3857468413585   \n",
       "2021-06-09 05:30:00  2509.048145  2623.7007639183257  2409.4014825151694   \n",
       "\n",
       "                                  close        day  \n",
       "timestamp                                           \n",
       "2021-06-13 05:30:00                   0     Sunday  \n",
       "2021-06-12 05:30:00    2367.97618080739   Saturday  \n",
       "2021-06-11 05:30:00   2352.675589833701     Friday  \n",
       "2021-06-10 05:30:00  2470.4736784482952   Thursday  \n",
       "2021-06-09 05:30:00   2607.626355089492  Wednesday  "
      ]
     },
     "execution_count": 51,
     "metadata": {},
     "output_type": "execute_result"
    }
   ],
   "source": [
    "eth_df_2.head()"
   ]
  },
  {
   "cell_type": "code",
   "execution_count": 72,
   "id": "3709cf92",
   "metadata": {},
   "outputs": [
    {
     "data": {
      "text/html": [
       "<div>\n",
       "<style scoped>\n",
       "    .dataframe tbody tr th:only-of-type {\n",
       "        vertical-align: middle;\n",
       "    }\n",
       "\n",
       "    .dataframe tbody tr th {\n",
       "        vertical-align: top;\n",
       "    }\n",
       "\n",
       "    .dataframe thead th {\n",
       "        text-align: right;\n",
       "    }\n",
       "</style>\n",
       "<table border=\"1\" class=\"dataframe\">\n",
       "  <thead>\n",
       "    <tr style=\"text-align: right;\">\n",
       "      <th></th>\n",
       "      <th>open</th>\n",
       "      <th>high</th>\n",
       "      <th>low</th>\n",
       "      <th>close</th>\n",
       "      <th>day</th>\n",
       "    </tr>\n",
       "    <tr>\n",
       "      <th>timestamp</th>\n",
       "      <th></th>\n",
       "      <th></th>\n",
       "      <th></th>\n",
       "      <th></th>\n",
       "      <th></th>\n",
       "    </tr>\n",
       "  </thead>\n",
       "  <tbody>\n",
       "    <tr>\n",
       "      <th>2021-06-13 05:30:00</th>\n",
       "      <td>2370.724416</td>\n",
       "      <td>0</td>\n",
       "      <td>0</td>\n",
       "      <td>0</td>\n",
       "      <td>Sunday</td>\n",
       "    </tr>\n",
       "    <tr>\n",
       "      <th>2021-06-12 05:30:00</th>\n",
       "      <td>2354.813968</td>\n",
       "      <td>2447.568010857967</td>\n",
       "      <td>2261.86707542377</td>\n",
       "      <td>2367.97618080739</td>\n",
       "      <td>Saturday</td>\n",
       "    </tr>\n",
       "    <tr>\n",
       "      <th>2021-06-11 05:30:00</th>\n",
       "      <td>2470.997379</td>\n",
       "      <td>2495.12396019085</td>\n",
       "      <td>2322.617204110257</td>\n",
       "      <td>2352.675589833701</td>\n",
       "      <td>Friday</td>\n",
       "    </tr>\n",
       "    <tr>\n",
       "      <th>2021-06-10 05:30:00</th>\n",
       "      <td>2610.633938</td>\n",
       "      <td>2621.5144645105865</td>\n",
       "      <td>2433.3857468413585</td>\n",
       "      <td>2470.4736784482952</td>\n",
       "      <td>Thursday</td>\n",
       "    </tr>\n",
       "  </tbody>\n",
       "</table>\n",
       "</div>"
      ],
      "text/plain": [
       "                            open                high                 low  \\\n",
       "timestamp                                                                  \n",
       "2021-06-13 05:30:00  2370.724416                   0                   0   \n",
       "2021-06-12 05:30:00  2354.813968   2447.568010857967    2261.86707542377   \n",
       "2021-06-11 05:30:00  2470.997379    2495.12396019085   2322.617204110257   \n",
       "2021-06-10 05:30:00  2610.633938  2621.5144645105865  2433.3857468413585   \n",
       "\n",
       "                                  close       day  \n",
       "timestamp                                          \n",
       "2021-06-13 05:30:00                   0    Sunday  \n",
       "2021-06-12 05:30:00    2367.97618080739  Saturday  \n",
       "2021-06-11 05:30:00   2352.675589833701    Friday  \n",
       "2021-06-10 05:30:00  2470.4736784482952  Thursday  "
      ]
     },
     "execution_count": 72,
     "metadata": {},
     "output_type": "execute_result"
    }
   ],
   "source": [
    "eth_df_2.loc[datetime(2021,6,20):datetime(2021,6,10)]"
   ]
  },
  {
   "cell_type": "code",
   "execution_count": 83,
   "id": "7de1c9b4",
   "metadata": {},
   "outputs": [
    {
     "data": {
      "text/plain": [
       "'2621.5144645105865'"
      ]
     },
     "execution_count": 83,
     "metadata": {},
     "output_type": "execute_result"
    }
   ],
   "source": [
    "\n",
    "eth_df_2.loc['2021-6-10']['high'].max()"
   ]
  },
  {
   "cell_type": "code",
   "execution_count": 84,
   "id": "ef6ac320",
   "metadata": {},
   "outputs": [],
   "source": [
    "from datetime import timedelta"
   ]
  },
  {
   "cell_type": "code",
   "execution_count": 97,
   "id": "e807e30e",
   "metadata": {},
   "outputs": [],
   "source": [
    "eth_df_2['high'] = eth_df_2['high'].astype(float)"
   ]
  },
  {
   "cell_type": "code",
   "execution_count": 102,
   "id": "d5eecbbb",
   "metadata": {},
   "outputs": [
    {
     "data": {
      "text/plain": [
       "timestamp\n",
       "2021-05-16    4174.590000\n",
       "2021-05-23    3588.290000\n",
       "2021-05-30    2910.160000\n",
       "2021-06-06    2889.220875\n",
       "2021-06-13    2846.796980\n",
       "Freq: W-SUN, Name: high, dtype: float64"
      ]
     },
     "execution_count": 102,
     "metadata": {},
     "output_type": "execute_result"
    }
   ],
   "source": [
    "# get max high value for weeks\n",
    "eth_df_2['high'].resample('W').max()"
   ]
  },
  {
   "cell_type": "code",
   "execution_count": 106,
   "id": "546df477",
   "metadata": {},
   "outputs": [
    {
     "data": {
      "text/plain": [
       "timestamp\n",
       "2021-05-16       0.00000\n",
       "2021-05-23    1736.83362\n",
       "2021-05-30       0.00000\n",
       "2021-06-06       0.00000\n",
       "2021-06-13       0.00000\n",
       "Freq: W-SUN, Name: low, dtype: float64"
      ]
     },
     "execution_count": 106,
     "metadata": {},
     "output_type": "execute_result"
    }
   ],
   "source": [
    "eth_df_2['low'].astype(float).resample('W').min()"
   ]
  },
  {
   "cell_type": "code",
   "execution_count": 150,
   "id": "adcb415f",
   "metadata": {},
   "outputs": [],
   "source": [
    "three_day_lowests = eth_df_2['low'].astype(float).resample('3D').max()\n",
    "daily_least_highest = eth_df_2['high'].astype(float).resample('D').min()\n",
    "daily_highest = eth_df_2['high'].astype(float).resample('D').max()\n",
    "daily_mean = eth_df_2['high'].astype(float).resample('D').mean()"
   ]
  },
  {
   "cell_type": "code",
   "execution_count": 151,
   "id": "b414b178",
   "metadata": {},
   "outputs": [],
   "source": [
    "%matplotlib inline"
   ]
  },
  {
   "cell_type": "code",
   "execution_count": 152,
   "id": "d5d2a6a8",
   "metadata": {},
   "outputs": [
    {
     "data": {
      "text/plain": [
       "<AxesSubplot:xlabel='timestamp'>"
      ]
     },
     "execution_count": 152,
     "metadata": {},
     "output_type": "execute_result"
    },
    {
     "data": {
      "image/png": "[encoded data removed]",
      "text/plain": [
       "<Figure size 432x288 with 1 Axes>"
      ]
     },
     "metadata": {
      "needs_background": "light"
     },
     "output_type": "display_data"
    }
   ],
   "source": [
    "three_day_lowests.plot()"
   ]
  },
  {
   "cell_type": "code",
   "execution_count": 153,
   "id": "7c6dd34d",
   "metadata": {},
   "outputs": [
    {
     "data": {
      "text/plain": [
       "<AxesSubplot:xlabel='timestamp'>"
      ]
     },
     "execution_count": 153,
     "metadata": {},
     "output_type": "execute_result"
    },
    {
     "data": {
      "image/png": "[encoded data removed]",
      "text/plain": [
       "<Figure size 432x288 with 1 Axes>"
      ]
     },
     "metadata": {
      "needs_background": "light"
     },
     "output_type": "display_data"
    }
   ],
   "source": [
    "daily_least_highest.plot()"
   ]
  },
  {
   "cell_type": "code",
   "execution_count": 154,
   "id": "0a9ef4d3",
   "metadata": {},
   "outputs": [
    {
     "data": {
      "text/plain": [
       "<AxesSubplot:xlabel='timestamp'>"
      ]
     },
     "execution_count": 154,
     "metadata": {},
     "output_type": "execute_result"
    },
    {
     "data": {
      "image/png": "[encoded data removed]",
      "text/plain": [
       "<Figure size 432x288 with 1 Axes>"
      ]
     },
     "metadata": {
      "needs_background": "light"
     },
     "output_type": "display_data"
    }
   ],
   "source": [
    "daily_highest.plot()"
   ]
  },
  {
   "cell_type": "code",
   "execution_count": 155,
   "id": "fc68ad76",
   "metadata": {},
   "outputs": [
    {
     "data": {
      "text/plain": [
       "<AxesSubplot:xlabel='timestamp'>"
      ]
     },
     "execution_count": 155,
     "metadata": {},
     "output_type": "execute_result"
    },
    {
     "data": {
      "image/png": "[encoded data removed]",
      "text/plain": [
       "<Figure size 432x288 with 1 Axes>"
      ]
     },
     "metadata": {
      "needs_background": "light"
     },
     "output_type": "display_data"
    }
   ],
   "source": [
    "daily_mean.plot()"
   ]
  },
  {
   "cell_type": "code",
   "execution_count": 189,
   "id": "c1eea65a",
   "metadata": {},
   "outputs": [],
   "source": [
    "original_cols = eth_df_2.loc[:,'open':'close'].applymap(lambda x: float(x))"
   ]
  },
  {
   "cell_type": "code",
   "execution_count": 190,
   "id": "eeb7ab15",
   "metadata": {},
   "outputs": [],
   "source": [
    "original_cols.fillna(value=0, inplace=True)"
   ]
  },
  {
   "cell_type": "code",
   "execution_count": 193,
   "id": "94a0c329",
   "metadata": {},
   "outputs": [
    {
     "data": {
      "text/html": [
       "<div>\n",
       "<style scoped>\n",
       "    .dataframe tbody tr th:only-of-type {\n",
       "        vertical-align: middle;\n",
       "    }\n",
       "\n",
       "    .dataframe tbody tr th {\n",
       "        vertical-align: top;\n",
       "    }\n",
       "\n",
       "    .dataframe thead th {\n",
       "        text-align: right;\n",
       "    }\n",
       "</style>\n",
       "<table border=\"1\" class=\"dataframe\">\n",
       "  <thead>\n",
       "    <tr style=\"text-align: right;\">\n",
       "      <th></th>\n",
       "      <th>open</th>\n",
       "      <th>high</th>\n",
       "      <th>low</th>\n",
       "      <th>close</th>\n",
       "    </tr>\n",
       "    <tr>\n",
       "      <th>timestamp</th>\n",
       "      <th></th>\n",
       "      <th></th>\n",
       "      <th></th>\n",
       "      <th></th>\n",
       "    </tr>\n",
       "  </thead>\n",
       "  <tbody>\n",
       "    <tr>\n",
       "      <th>2021-05-16</th>\n",
       "      <td>4094.990000</td>\n",
       "      <td>4174.590000</td>\n",
       "      <td>3701.258493</td>\n",
       "      <td>4079.280000</td>\n",
       "    </tr>\n",
       "    <tr>\n",
       "      <th>2021-05-23</th>\n",
       "      <td>3588.290000</td>\n",
       "      <td>3588.290000</td>\n",
       "      <td>3245.651855</td>\n",
       "      <td>3379.649948</td>\n",
       "    </tr>\n",
       "    <tr>\n",
       "      <th>2021-05-30</th>\n",
       "      <td>2889.840000</td>\n",
       "      <td>2910.160000</td>\n",
       "      <td>2651.230000</td>\n",
       "      <td>2884.060000</td>\n",
       "    </tr>\n",
       "    <tr>\n",
       "      <th>2021-06-06</th>\n",
       "      <td>2856.057688</td>\n",
       "      <td>2889.220875</td>\n",
       "      <td>2667.053463</td>\n",
       "      <td>2852.803506</td>\n",
       "    </tr>\n",
       "    <tr>\n",
       "      <th>2021-06-13</th>\n",
       "      <td>2718.680000</td>\n",
       "      <td>2846.796980</td>\n",
       "      <td>2576.207389</td>\n",
       "      <td>2607.626355</td>\n",
       "    </tr>\n",
       "  </tbody>\n",
       "</table>\n",
       "</div>"
      ],
      "text/plain": [
       "                   open         high          low        close\n",
       "timestamp                                                     \n",
       "2021-05-16  4094.990000  4174.590000  3701.258493  4079.280000\n",
       "2021-05-23  3588.290000  3588.290000  3245.651855  3379.649948\n",
       "2021-05-30  2889.840000  2910.160000  2651.230000  2884.060000\n",
       "2021-06-06  2856.057688  2889.220875  2667.053463  2852.803506\n",
       "2021-06-13  2718.680000  2846.796980  2576.207389  2607.626355"
      ]
     },
     "execution_count": 193,
     "metadata": {},
     "output_type": "execute_result"
    }
   ],
   "source": [
    "original_cols.resample('W').max()"
   ]
  },
  {
   "cell_type": "code",
   "execution_count": 194,
   "id": "c7162def",
   "metadata": {},
   "outputs": [
    {
     "data": {
      "text/html": [
       "<div>\n",
       "<style scoped>\n",
       "    .dataframe tbody tr th:only-of-type {\n",
       "        vertical-align: middle;\n",
       "    }\n",
       "\n",
       "    .dataframe tbody tr th {\n",
       "        vertical-align: top;\n",
       "    }\n",
       "\n",
       "    .dataframe thead th {\n",
       "        text-align: right;\n",
       "    }\n",
       "</style>\n",
       "<table border=\"1\" class=\"dataframe\">\n",
       "  <thead>\n",
       "    <tr style=\"text-align: right;\">\n",
       "      <th></th>\n",
       "      <th>open</th>\n",
       "      <th>high</th>\n",
       "      <th>low</th>\n",
       "      <th>close</th>\n",
       "    </tr>\n",
       "    <tr>\n",
       "      <th>timestamp</th>\n",
       "      <th></th>\n",
       "      <th></th>\n",
       "      <th></th>\n",
       "      <th></th>\n",
       "    </tr>\n",
       "  </thead>\n",
       "  <tbody>\n",
       "    <tr>\n",
       "      <th>2021-05-16</th>\n",
       "      <td>3813.885714</td>\n",
       "      <td>4174.590000</td>\n",
       "      <td>0.00000</td>\n",
       "      <td>2147.780000</td>\n",
       "    </tr>\n",
       "    <tr>\n",
       "      <th>2021-05-23</th>\n",
       "      <td>2886.515917</td>\n",
       "      <td>3588.290000</td>\n",
       "      <td>1736.83362</td>\n",
       "      <td>2678.981957</td>\n",
       "    </tr>\n",
       "    <tr>\n",
       "      <th>2021-05-30</th>\n",
       "      <td>2512.222739</td>\n",
       "      <td>2910.160000</td>\n",
       "      <td>0.00000</td>\n",
       "      <td>1504.404181</td>\n",
       "    </tr>\n",
       "    <tr>\n",
       "      <th>2021-06-06</th>\n",
       "      <td>2634.739965</td>\n",
       "      <td>2889.220875</td>\n",
       "      <td>0.00000</td>\n",
       "      <td>1890.980445</td>\n",
       "    </tr>\n",
       "    <tr>\n",
       "      <th>2021-06-13</th>\n",
       "      <td>2520.269898</td>\n",
       "      <td>2846.796980</td>\n",
       "      <td>0.00000</td>\n",
       "      <td>2128.817564</td>\n",
       "    </tr>\n",
       "  </tbody>\n",
       "</table>\n",
       "</div>"
      ],
      "text/plain": [
       "                   open         high         low        close\n",
       "timestamp                                                    \n",
       "2021-05-16  3813.885714  4174.590000     0.00000  2147.780000\n",
       "2021-05-23  2886.515917  3588.290000  1736.83362  2678.981957\n",
       "2021-05-30  2512.222739  2910.160000     0.00000  1504.404181\n",
       "2021-06-06  2634.739965  2889.220875     0.00000  1890.980445\n",
       "2021-06-13  2520.269898  2846.796980     0.00000  2128.817564"
      ]
     },
     "execution_count": 194,
     "metadata": {},
     "output_type": "execute_result"
    }
   ],
   "source": [
    "original_cols.resample('W').agg({'open': 'mean', 'high': 'max', 'low': 'min', 'close': 'mean'})"
   ]
  },
  {
   "cell_type": "code",
   "execution_count": null,
   "id": "c8f30cdf",
   "metadata": {},
   "outputs": [],
   "source": []
  }
 ],
 "metadata": {
  "kernelspec": {
   "display_name": "Python 3",
   "language": "python",
   "name": "python3"
  },
  "language_info": {
   "codemirror_mode": {
    "name": "ipython",
    "version": 3
   },
   "file_extension": ".py",
   "mimetype": "text/x-python",
   "name": "python",
   "nbconvert_exporter": "python",
   "pygments_lexer": "ipython3",
   "version": "3.8.5"
  }
 },
 "nbformat": 4,
 "nbformat_minor": 5
}
