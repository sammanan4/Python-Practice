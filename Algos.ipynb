{
 "cells": [
  {
   "cell_type": "code",
   "execution_count": 24,
   "id": "cb1b42b0",
   "metadata": {},
   "outputs": [],
   "source": [
    "def infix_to_postfix(expr: str) -> list:\n",
    "    prec = {\"+\":0,\"-\":0,\"*\":1,\"/\":1,\"(\":2 }\n",
    "    operations = tuple(\"()+-/*\")\n",
    "    numbers = tuple(\"0123456789.\")\n",
    "    \n",
    "    postfix_stack = []\n",
    "    operator_stack = ['(']\n",
    "    num = \"\"\n",
    "    for c in expr:\n",
    "        if c in numbers:\n",
    "            num += c\n",
    "        elif c in operations:\n",
    "            # if any number was accumulated, then save it in the stack\n",
    "            if num:\n",
    "                postfix_stack.append(num)\n",
    "                num = \"\"\n",
    "            \n",
    "            # if closing brace is encountered, then pop all operators until opening brace in encountered\n",
    "            if c==\")\":\n",
    "                while operator_stack and operator_stack[-1] != '(':\n",
    "                    postfix_stack.append(operator_stack.pop())\n",
    "                # remove opening brace as well\n",
    "                operator_stack.pop()\n",
    "            \n",
    "            # else if precedence of the operator is less or equal to previous operator in stack, \n",
    "            # then pop all until opening brace or operator with lesser precedence is encountered\n",
    "            elif prec[operator_stack[-1]] >= prec[c]:\n",
    "                while (operator_stack and \n",
    "                       operator_stack[-1] != '(' and \n",
    "                       prec[operator_stack[-1]] >= prec[c]):\n",
    "                    postfix_stack.append(operator_stack.pop())\n",
    "                operator_stack.append(c)\n",
    "            \n",
    "            # if an operator with more precedence is encountered then just push to op_stack\n",
    "            elif (not operator_stack) or prec[operator_stack[-1]] <= prec[c]:\n",
    "                operator_stack.append(c)\n",
    "        else:\n",
    "            if num:\n",
    "                postfix_stack.append(num)\n",
    "                num = \"\"\n",
    "            \n",
    "    if num:\n",
    "        postfix_stack.append(num)\n",
    "    while operator_stack and operator_stack[-1] != '(':\n",
    "        postfix_stack.append(operator_stack.pop())\n",
    "            \n",
    "    \n",
    "    return postfix_stack"
   ]
  },
  {
   "cell_type": "code",
   "execution_count": 37,
   "id": "9fecb16d",
   "metadata": {},
   "outputs": [],
   "source": [
    "def find_first_operator(expr: list) -> int:\n",
    "    for i, v in enumerate(expr):\n",
    "        if v in \"+-/*\":\n",
    "            return i \n",
    "\n",
    "def evaluate_postfix_expression(expr: list) -> float:\n",
    "    while len(expr) > 1:\n",
    "        operator_index = find_first_operator(expr)\n",
    "        if operator_index:\n",
    "            if expr[operator_index] == \"*\":\n",
    "                result = float(expr[operator_index-2]) * float(expr[operator_index-1])\n",
    "            elif expr[operator_index] == \"/\":\n",
    "                result = float(expr[operator_index-2]) / float(expr[operator_index-1])\n",
    "            if expr[operator_index] == \"+\":\n",
    "                result = float(expr[operator_index-2]) + float(expr[operator_index-1])\n",
    "            if expr[operator_index] == \"-\":\n",
    "                result = float(expr[operator_index-2]) - float(expr[operator_index-1])\n",
    "        else:\n",
    "            raise Exception(\"Invalid expression\")\n",
    "        expr[operator_index-2:operator_index+1] = [str(result)]\n",
    "    return expr[0]"
   ]
  },
  {
   "cell_type": "code",
   "execution_count": 41,
   "id": "7d11059d",
   "metadata": {},
   "outputs": [
    {
     "data": {
      "text/plain": [
       "'-4.0'"
      ]
     },
     "execution_count": 41,
     "metadata": {},
     "output_type": "execute_result"
    }
   ],
   "source": [
    "evaluate_postfix_expression(infix_to_postfix(\"1*2-2*3\"))"
   ]
  },
  {
   "cell_type": "code",
   "execution_count": null,
   "id": "8b607231",
   "metadata": {},
   "outputs": [],
   "source": []
  }
 ],
 "metadata": {
  "kernelspec": {
   "display_name": "Python 3",
   "language": "python",
   "name": "python3"
  },
  "language_info": {
   "codemirror_mode": {
    "name": "ipython",
    "version": 3
   },
   "file_extension": ".py",
   "mimetype": "text/x-python",
   "name": "python",
   "nbconvert_exporter": "python",
   "pygments_lexer": "ipython3",
   "version": "3.8.10"
  }
 },
 "nbformat": 4,
 "nbformat_minor": 5
}
