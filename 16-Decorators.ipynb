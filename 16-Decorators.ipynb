{
 "cells": [
  {
   "cell_type": "markdown",
   "metadata": {},
   "source": [
    "Python Decorators"
   ]
  },
  {
   "cell_type": "markdown",
   "metadata": {},
   "source": [
    "Decorators allow us to add some code to already existing\n",
    "functions without modifying the existing function \n",
    "but rather creating a new function, and decorate the\n",
    "exisiting function with it"
   ]
  },
  {
   "cell_type": "code",
   "execution_count": 1,
   "metadata": {},
   "outputs": [],
   "source": [
    "# Consider we have a function\n",
    "def func():\n",
    "    print('I am inevitable')"
   ]
  },
  {
   "cell_type": "code",
   "execution_count": 2,
   "metadata": {},
   "outputs": [],
   "source": [
    "# this decorator function returns a function\n",
    "# which is a decoration\n",
    "def decorator(input_func):\n",
    "    def decoration():\n",
    "        print('Thanos says: ', end=\"\")\n",
    "        input_func()\n",
    "        print('Iron man says: And I.....am Iron man....SNAP')\n",
    "    return decoration"
   ]
  },
  {
   "cell_type": "code",
   "execution_count": 4,
   "metadata": {},
   "outputs": [
    {
     "name": "stdout",
     "output_type": "stream",
     "text": [
      "Thanos says: I am inevitable\n",
      "Iron man says: And I.....am Iron man....SNAP\n"
     ]
    }
   ],
   "source": [
    "#lets decorate the original function\n",
    "new_func = decorator(func)\n",
    "new_func()"
   ]
  },
  {
   "cell_type": "code",
   "execution_count": 6,
   "metadata": {},
   "outputs": [],
   "source": [
    "# But But But.....Python has an inbuilt method\n",
    "# to create decorators... we can just say\n",
    "@decorator\n",
    "def func():\n",
    "    print('I am inevitable')"
   ]
  },
  {
   "cell_type": "code",
   "execution_count": 7,
   "metadata": {},
   "outputs": [
    {
     "name": "stdout",
     "output_type": "stream",
     "text": [
      "Thanos says: I am inevitable\n",
      "Iron man says: And I.....am Iron man....SNAP\n"
     ]
    }
   ],
   "source": [
    "# Now i can call the original function which is decorated\n",
    "# wihtout the need to call the new function\n",
    "func()"
   ]
  }
 ],
 "metadata": {
  "kernelspec": {
   "display_name": "Python 3",
   "language": "python",
   "name": "python3"
  },
  "language_info": {
   "codemirror_mode": {
    "name": "ipython",
    "version": 3
   },
   "file_extension": ".py",
   "mimetype": "text/x-python",
   "name": "python",
   "nbconvert_exporter": "python",
   "pygments_lexer": "ipython3",
   "version": "3.8.5"
  }
 },
 "nbformat": 4,
 "nbformat_minor": 2
}
