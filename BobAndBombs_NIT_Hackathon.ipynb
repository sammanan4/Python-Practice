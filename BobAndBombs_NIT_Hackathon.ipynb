{
 "cells": [
  {
   "cell_type": "code",
   "execution_count": 42,
   "metadata": {},
   "outputs": [
    {
     "name": "stdout",
     "output_type": "stream",
     "text": [
      "3 WBW WWBWWBW BWWWBWBWW\n",
      "2\n",
      "5\n",
      "6\n"
     ]
    }
   ],
   "source": [
    "tot = input()\n",
    "see = tot.split(sep = \" \")\n",
    "for x in see[1:]:\n",
    "    st = x\n",
    "    howMany = 0\n",
    "    bombActive = False\n",
    "    itr = 0\n",
    "    behindIter = 0\n",
    "    for i in st:\n",
    "        if itr == 2:\n",
    "            itr = 0\n",
    "            bombActive = False\n",
    "        if i == 'B':\n",
    "            bombActive = True\n",
    "            if behindIter >= 2:\n",
    "                howMany += 2\n",
    "            elif behindIter == 1:\n",
    "                howMany += 1\n",
    "            behindIter  = 0\n",
    "            itr = 0\n",
    "        elif i == 'W' and bombActive:\n",
    "            howMany += 1\n",
    "            itr += 1\n",
    "        elif i == 'W' and not(bombActive):\n",
    "            behindIter += 1\n",
    "    print(howMany, sep = \"\\n\")"
   ]
  },
  {
   "cell_type": "code",
   "execution_count": null,
   "metadata": {},
   "outputs": [],
   "source": []
  },
  {
   "cell_type": "code",
   "execution_count": null,
   "metadata": {},
   "outputs": [],
   "source": []
  }
 ],
 "metadata": {
  "kernelspec": {
   "display_name": "Python 3",
   "language": "python",
   "name": "python3"
  },
  "language_info": {
   "codemirror_mode": {
    "name": "ipython",
    "version": 3
   },
   "file_extension": ".py",
   "mimetype": "text/x-python",
   "name": "python",
   "nbconvert_exporter": "python",
   "pygments_lexer": "ipython3",
   "version": "3.6.8"
  }
 },
 "nbformat": 4,
 "nbformat_minor": 2
}
