{
 "cells": [
  {
   "cell_type": "code",
   "execution_count": 24,
   "metadata": {},
   "outputs": [],
   "source": [
    "def find(pattern, string):\n",
    "    words = string.split(sep=pattern[0])\n",
    "    newWords = []\n",
    "    for x in words[1:-1]:\n",
    "        newWords.append(pattern[0]+x+pattern[0])\n",
    "    newWords.insert(0, words[0]+pattern[0])\n",
    "    newWords.append(pattern[0]+words[-1])\n",
    "    num = 0\n",
    "    for n in newWords:\n",
    "        if pattern in n:\n",
    "            num += 1\n",
    "    return num"
   ]
  }
 ],
 "metadata": {
  "kernelspec": {
   "display_name": "Python 3",
   "language": "python",
   "name": "python3"
  },
  "language_info": {
   "codemirror_mode": {
    "name": "ipython",
    "version": 3
   },
   "file_extension": ".py",
   "mimetype": "text/x-python",
   "name": "python",
   "nbconvert_exporter": "python",
   "pygments_lexer": "ipython3",
   "version": "3.6.8"
  }
 },
 "nbformat": 4,
 "nbformat_minor": 2
}
