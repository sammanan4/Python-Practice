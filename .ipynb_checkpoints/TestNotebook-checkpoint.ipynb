{
 "cells": [
  {
   "cell_type": "code",
   "execution_count": 1,
   "id": "67020a12",
   "metadata": {},
   "outputs": [],
   "source": [
    "import re"
   ]
  },
  {
   "cell_type": "code",
   "execution_count": 38,
   "id": "65aa8b03",
   "metadata": {},
   "outputs": [
    {
     "data": {
      "text/plain": [
       "<re.Match object; span=(0, 13), match='195.111.100.1'>"
      ]
     },
     "execution_count": 38,
     "metadata": {},
     "output_type": "execute_result"
    }
   ],
   "source": [
    "regex = '((1[0-9][0-9]|2[0-4][0-9]|25[0-5]|\\d{2}|\\d)(\\.)){3}((1[0-9][0-9]|2[0-4][0-9]|25[0-5]|\\d{2}|\\d))'\n",
    "\n",
    "re.match(regex, '195.111.100.1')"
   ]
  },
  {
   "cell_type": "code",
   "execution_count": 34,
   "id": "4cbc5379",
   "metadata": {},
   "outputs": [],
   "source": [
    "re.match('([1-2][0-5][0-5]\\.|\\d{2}\\.|\\d\\.){3}([1-2][0-5][0-5]|\\d{2}|\\d)', '192.178.1.1')"
   ]
  },
  {
   "cell_type": "code",
   "execution_count": 39,
   "id": "84558479",
   "metadata": {},
   "outputs": [
    {
     "data": {
      "text/plain": [
       "<re.Match object; span=(0, 39), match='1987:764f:e4f3:9085:914a:ad86:85fb:122a'>"
      ]
     },
     "execution_count": 39,
     "metadata": {},
     "output_type": "execute_result"
    }
   ],
   "source": [
    "re.match(r'^(([0-9a-fA-F]{0,4}):){7}[0-9a-fA-F]{0,4}$', \"1987:764f:e4f3:9085:914a:ad86:85fb:122a\")"
   ]
  },
  {
   "cell_type": "code",
   "execution_count": 48,
   "id": "a533a44b",
   "metadata": {},
   "outputs": [
    {
     "data": {
      "text/plain": [
       "<re.Match object; span=(0, 39), match='1987:764f:e4f3:9085:914a:ad86:85fb:122a'>"
      ]
     },
     "execution_count": 48,
     "metadata": {},
     "output_type": "execute_result"
    }
   ],
   "source": [
    "regex = r'^([0-9a-fA-F]{0,4}:){7}[0-9a-fA-F]{0,4}$'\n",
    "\n",
    "re.match(regex, '1987:764f:e4f3:9085:914a:ad86:85fb:122a')"
   ]
  },
  {
   "cell_type": "code",
   "execution_count": null,
   "id": "cfb22635",
   "metadata": {},
   "outputs": [],
   "source": []
  }
 ],
 "metadata": {
  "kernelspec": {
   "display_name": "Python 3",
   "language": "python",
   "name": "python3"
  },
  "language_info": {
   "codemirror_mode": {
    "name": "ipython",
    "version": 3
   },
   "file_extension": ".py",
   "mimetype": "text/x-python",
   "name": "python",
   "nbconvert_exporter": "python",
   "pygments_lexer": "ipython3",
   "version": "3.8.5"
  }
 },
 "nbformat": 4,
 "nbformat_minor": 5
}
