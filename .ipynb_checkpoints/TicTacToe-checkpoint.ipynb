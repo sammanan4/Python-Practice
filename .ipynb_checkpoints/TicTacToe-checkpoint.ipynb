{
 "cells": [
  {
   "cell_type": "markdown",
   "metadata": {},
   "source": [
    "TIC TAC TOE!"
   ]
  },
  {
   "cell_type": "code",
   "execution_count": 1,
   "metadata": {},
   "outputs": [],
   "source": [
    "# Define the Print board function\n",
    "from IPython.display import clear_output\n",
    "\n",
    "def printBoard(board):\n",
    "    clear_output()\n",
    "    print(\"  |   |\")\n",
    "    print(board[7]+\" | \"+board[8]+\" | \"+board[9])\n",
    "    print(\"  |   |\")\n",
    "    print(\"--------\")\n",
    "    print(\"  |   |\")\n",
    "    print(board[4]+\" | \"+board[5]+\" | \"+board[6])\n",
    "    print(\"  |   |\")\n",
    "    print(\"--------\")\n",
    "    print(\"  |   |\")\n",
    "    print(board[1]+\" | \"+board[2]+\" | \"+board[3])\n",
    "    print(\"  |   |\")"
   ]
  },
  {
   "cell_type": "code",
   "execution_count": 2,
   "metadata": {},
   "outputs": [],
   "source": [
    "# Define function to ask for user marker\n",
    "def getMarker():\n",
    "    marker = ' '\n",
    "    while not(marker == 'X' or marker == 'O'):\n",
    "        clear_output()\n",
    "        marker = input(\"Player 1:Choose 'X' or 'O' : \").upper()\n",
    "    if marker == 'X':\n",
    "        return ('X', 'O')\n",
    "    else:\n",
    "        return ('O', 'X')"
   ]
  },
  {
   "cell_type": "code",
   "execution_count": 3,
   "metadata": {},
   "outputs": [],
   "source": [
    "# define a function to check if the place is free on board\n",
    "def check_space(board, position):\n",
    "    return board[position] == \" \""
   ]
  },
  {
   "cell_type": "code",
   "execution_count": 4,
   "metadata": {},
   "outputs": [],
   "source": [
    "# define a function to get input\n",
    "def play(board, playerMarker):\n",
    "    num = 0\n",
    "    while num not in [1,2,3,4,5,6,7,8,9] and not(check_space(board, num)):\n",
    "        num = int(input(\"Enter a number : \"))\n",
    "    board[num] = playerMarker"
   ]
  },
  {
   "cell_type": "code",
   "execution_count": 5,
   "metadata": {},
   "outputs": [],
   "source": [
    "# define a function to check if board is filled completely\n",
    "def checkFull(board):\n",
    "    if not(' ' in board):\n",
    "        print('GAME is DRAWN')\n",
    "        return True\n",
    "    return False"
   ]
  },
  {
   "cell_type": "code",
   "execution_count": 6,
   "metadata": {},
   "outputs": [],
   "source": [
    "# define a function to check the win condition\n",
    "def checkWin(board, playerMarker):\n",
    "    Won = False\n",
    "    # ROW checks\n",
    "    for i in [1,3,7]:\n",
    "        if board[i:i+3] == [playerMarker]*3:\n",
    "            Won = True\n",
    "    # COLUMN checks\n",
    "    if not(Won):\n",
    "        for i in [1,2,3]:\n",
    "            if board[i:i+7:3] == [playerMarker]*3:\n",
    "                Won = True\n",
    "    # DIAGONAL check\n",
    "    if not(Won):\n",
    "        if board[1:10:4] == [playerMarker]*3 or board[3:8:2] == [playerMarker]*3:\n",
    "            Won = True\n",
    "    if Won:\n",
    "        if player1 == playerMarker:\n",
    "            print('PLAYER 1 has WON !')\n",
    "        else:\n",
    "            print('PLAYER 2 has WON !')\n",
    "    return Won"
   ]
  },
  {
   "cell_type": "code",
   "execution_count": 10,
   "metadata": {},
   "outputs": [],
   "source": [
    "# check if player wants to play again\n",
    "def playAgain():\n",
    "    play = \" \"\n",
    "    while not(play.upper() == \"YES\" or play.upper() == \"NO\"):\n",
    "        play = input(\"Want to Play again (YES OR NO) : \")\n",
    "    return play.upper() == \"YES\""
   ]
  },
  {
   "cell_type": "code",
   "execution_count": 8,
   "metadata": {},
   "outputs": [],
   "source": [
    "# check which player plays first\n",
    "from random import randint\n",
    "def startPlayer():\n",
    "    return randint(1,2)"
   ]
  },
  {
   "cell_type": "code",
   "execution_count": null,
   "metadata": {},
   "outputs": [],
   "source": [
    "# start the game\n",
    "while True:\n",
    "    \n",
    "    # initialize the board\n",
    "    board = [' ']*10\n",
    "    board[0] = '#'\n",
    "    \n",
    "    # players choose markers\n",
    "    player1, player2 = getMarker()\n",
    "    \n",
    "    # which player plays first\n",
    "    if(startPlayer()==1):\n",
    "        turn = player1\n",
    "        played = player2\n",
    "    else:\n",
    "        turn = player2\n",
    "        played = player1\n",
    "    \n",
    "    #start game\n",
    "    while not(checkWin(board, played)) and not(checkFull(board)):\n",
    "        printBoard(board)\n",
    "        play(board, turn)\n",
    "        printBoard(board)\n",
    "        if(turn == player2):\n",
    "            turn = player1\n",
    "            played = player2\n",
    "        else:\n",
    "            turn = player2\n",
    "            played = player1\n",
    "    \n",
    "    # wants to play again ?\n",
    "    if not(playAgain()):\n",
    "        break"
   ]
  },
  {
   "cell_type": "code",
   "execution_count": null,
   "metadata": {},
   "outputs": [],
   "source": []
  }
 ],
 "metadata": {
  "kernelspec": {
   "display_name": "Python 3",
   "language": "python",
   "name": "python3"
  },
  "language_info": {
   "codemirror_mode": {
    "name": "ipython",
    "version": 3
   },
   "file_extension": ".py",
   "mimetype": "text/x-python",
   "name": "python",
   "nbconvert_exporter": "python",
   "pygments_lexer": "ipython3",
   "version": "3.6.8"
  }
 },
 "nbformat": 4,
 "nbformat_minor": 2
}
