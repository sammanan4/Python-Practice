{
 "cells": [
  {
   "cell_type": "markdown",
   "metadata": {},
   "source": [
    "Exception Handling"
   ]
  },
  {
   "cell_type": "markdown",
   "metadata": {},
   "source": [
    "try, except, else, finally"
   ]
  },
  {
   "cell_type": "code",
   "execution_count": 1,
   "metadata": {},
   "outputs": [],
   "source": [
    "def add(*args):\n",
    "    try:\n",
    "        if(args[0]==0):\n",
    "            raise arg0(\"First Argument 0 error\")\n",
    "        result = sum(args)\n",
    "    except TypeError:\n",
    "        print('Incorrect arguments !')\n",
    "    except:\n",
    "        print('Some Error Occurred')\n",
    "    else:\n",
    "        print('sum is ', result)\n",
    "    finally:\n",
    "        print('end of function')"
   ]
  },
  {
   "cell_type": "code",
   "execution_count": 2,
   "metadata": {},
   "outputs": [
    {
     "name": "stdout",
     "output_type": "stream",
     "text": [
      "Some Error Occurred\n",
      "end of function\n"
     ]
    }
   ],
   "source": [
    "add(0,1)"
   ]
  },
  {
   "cell_type": "code",
   "execution_count": null,
   "metadata": {},
   "outputs": [],
   "source": []
  },
  {
   "cell_type": "code",
   "execution_count": null,
   "metadata": {},
   "outputs": [],
   "source": []
  },
  {
   "cell_type": "code",
   "execution_count": null,
   "metadata": {},
   "outputs": [],
   "source": []
  },
  {
   "cell_type": "code",
   "execution_count": null,
   "metadata": {},
   "outputs": [],
   "source": []
  },
  {
   "cell_type": "code",
   "execution_count": null,
   "metadata": {},
   "outputs": [],
   "source": []
  },
  {
   "cell_type": "markdown",
   "metadata": {},
   "source": [
    "Problems on exception handling"
   ]
  },
  {
   "cell_type": "code",
   "execution_count": 3,
   "metadata": {},
   "outputs": [],
   "source": [
    "def getPowers(List):\n",
    "    try:\n",
    "        powList = [x**2 for x in List]\n",
    "    except TypeError:\n",
    "        print('Incorrect List items')\n",
    "    else:\n",
    "        return powList"
   ]
  },
  {
   "cell_type": "code",
   "execution_count": 4,
   "metadata": {},
   "outputs": [
    {
     "name": "stdout",
     "output_type": "stream",
     "text": [
      "Incorrect List items\n"
     ]
    }
   ],
   "source": [
    "getPowers(['string',2,3])"
   ]
  },
  {
   "cell_type": "code",
   "execution_count": 8,
   "metadata": {},
   "outputs": [
    {
     "name": "stdout",
     "output_type": "stream",
     "text": [
      "First number : 1\n",
      "Second number : 0\n",
      "Division by Zero is not allowed\n",
      "First number : 1\n",
      "Second number : 1\n",
      "1 / 1 = 1.0\n"
     ]
    }
   ],
   "source": [
    "while(True):\n",
    "    try:\n",
    "        a = int(input('First number : '))\n",
    "        b = int(input('Second number : '))\n",
    "    except ValueError:\n",
    "        print('Incorrect operands')\n",
    "    except:\n",
    "        print('Some Error Occured')\n",
    "    else:\n",
    "        try:\n",
    "            res = a/b\n",
    "        except ZeroDivisionError:\n",
    "            print('Division by Zero is not allowed')\n",
    "        except:\n",
    "            print('Some Error occured')\n",
    "        else:\n",
    "            print(f'{a} / {b} = {res}')\n",
    "            break"
   ]
  },
  {
   "cell_type": "code",
   "execution_count": null,
   "metadata": {},
   "outputs": [],
   "source": []
  }
 ],
 "metadata": {
  "kernelspec": {
   "display_name": "Python 3",
   "language": "python",
   "name": "python3"
  },
  "language_info": {
   "codemirror_mode": {
    "name": "ipython",
    "version": 3
   },
   "file_extension": ".py",
   "mimetype": "text/x-python",
   "name": "python",
   "nbconvert_exporter": "python",
   "pygments_lexer": "ipython3",
   "version": "3.8.5"
  }
 },
 "nbformat": 4,
 "nbformat_minor": 2
}
