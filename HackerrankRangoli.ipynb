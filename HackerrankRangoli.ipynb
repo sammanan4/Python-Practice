{
 "cells": [
  {
   "cell_type": "code",
   "execution_count": null,
   "metadata": {},
   "outputs": [],
   "source": [
    "from string import ascii_lowercase as alphas\n",
    "def print_rangoli(size):\n",
    "    if(size==1):\n",
    "        print('a')\n",
    "        return\n",
    "    alphs = list(alphas)\n",
    "    # print upper half\n",
    "    for i in range(size):\n",
    "        print('-'.join(alphs[size-1:size-i-1:-1]).rjust(size*2-3,'-'),\n",
    "              '-'+ alphs[size-i-1] + '-',\n",
    "              '-'.join(alphs[size-i:size]).ljust(size*2-3,'-'),\n",
    "              sep=\"\")\n",
    "    # print lower half\n",
    "    for i in range(size-2,-1,-1):\n",
    "        print('-'.join(alphs[size-1:size-i-1:-1]).rjust(size*2-3,'-'),\n",
    "              '-'+ alphs[size-i-1] + '-',\n",
    "              '-'.join(alphs[size-i:size]).ljust(size*2-3,'-'),\n",
    "              sep=\"\")\n",
    "\n",
    "\n",
    "if __name__ == '__main__':\n",
    "    n = int(input())\n",
    "    print_rangoli(n)"
   ]
  }
 ],
 "metadata": {
  "kernelspec": {
   "display_name": "Python 3",
   "language": "python",
   "name": "python3"
  },
  "language_info": {
   "codemirror_mode": {
    "name": "ipython",
    "version": 3
   },
   "file_extension": ".py",
   "mimetype": "text/x-python",
   "name": "python",
   "nbconvert_exporter": "python",
   "pygments_lexer": "ipython3",
   "version": "3.6.8"
  }
 },
 "nbformat": 4,
 "nbformat_minor": 2
}
