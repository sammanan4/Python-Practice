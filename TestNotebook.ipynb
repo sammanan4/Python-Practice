{
 "cells": [
  {
   "cell_type": "code",
   "execution_count": 1,
   "id": "67020a12",
   "metadata": {},
   "outputs": [],
   "source": [
    "import re"
   ]
  },
  {
   "cell_type": "code",
   "execution_count": 38,
   "id": "34e5cb8a",
   "metadata": {},
   "outputs": [
    {
     "data": {
      "text/plain": [
       "<re.Match object; span=(0, 13), match='195.111.100.1'>"
      ]
     },
     "execution_count": 38,
     "metadata": {},
     "output_type": "execute_result"
    }
   ],
   "source": [
    "regex = '((1[0-9][0-9]|2[0-4][0-9]|25[0-5]|\\d{2}|\\d)(\\.)){3}((1[0-9][0-9]|2[0-4][0-9]|25[0-5]|\\d{2}|\\d))'\n",
    "\n",
    "re.match(regex, '195.111.100.1')"
   ]
  },
  {
   "cell_type": "code",
   "execution_count": 34,
   "id": "fa91cd5f",
   "metadata": {},
   "outputs": [],
   "source": [
    "re.match('([1-2][0-5][0-5]\\.|\\d{2}\\.|\\d\\.){3}([1-2][0-5][0-5]|\\d{2}|\\d)', '192.178.1.1')"
   ]
  },
  {
   "cell_type": "code",
   "execution_count": 39,
   "id": "4c0a71ac",
   "metadata": {},
   "outputs": [
    {
     "data": {
      "text/plain": [
       "<re.Match object; span=(0, 39), match='1987:764f:e4f3:9085:914a:ad86:85fb:122a'>"
      ]
     },
     "execution_count": 39,
     "metadata": {},
     "output_type": "execute_result"
    }
   ],
   "source": [
    "re.match(r'^(([0-9a-fA-F]{0,4}):){7}[0-9a-fA-F]{0,4}$', \"1987:764f:e4f3:9085:914a:ad86:85fb:122a\")"
   ]
  },
  {
   "cell_type": "code",
   "execution_count": 48,
   "id": "bad8ea2b",
   "metadata": {},
   "outputs": [
    {
     "data": {
      "text/plain": [
       "<re.Match object; span=(0, 39), match='1987:764f:e4f3:9085:914a:ad86:85fb:122a'>"
      ]
     },
     "execution_count": 48,
     "metadata": {},
     "output_type": "execute_result"
    }
   ],
   "source": [
    "regex = r'^([0-9a-fA-F]{0,4}:){7}[0-9a-fA-F]{0,4}$'\n",
    "\n",
    "re.match(regex, '1987:764f:e4f3:9085:914a:ad86:85fb:122a')"
   ]
  },
  {
   "cell_type": "code",
   "execution_count": 49,
   "id": "30cc1fd8",
   "metadata": {},
   "outputs": [
    {
     "data": {
      "text/plain": [
       "<re.Match object; span=(0, 17), match='5B-4E-F7-96-65-5F'>"
      ]
     },
     "execution_count": 49,
     "metadata": {},
     "output_type": "execute_result"
    }
   ],
   "source": [
    "regex = r'^(([0-9a-fA-F]{2}:){5}[0-9a-fA-F]{2}|([0-9a-fA-F]{2}\\-){5}[0-9a-fA-F]{2}|([0-9a-fA-F]{3}\\.){3}[0-9a-fA-F]{3})$'\n",
    "re.match(regex, \"5B-4E-F7-96-65-5F\")"
   ]
  },
  {
   "cell_type": "code",
   "execution_count": null,
   "id": "e7b5a5fc",
   "metadata": {},
   "outputs": [],
   "source": [
    "regex_email = r'^[a-zA-Z][a-zA-Z0-9_\\.]*@[a-zA-Z\\-]+(\\.[a-zA-Z]+){1,2}$'\n",
    "regex_ipv4 = r'^((1[0-9][0-9]|2[0-4][0-9]|25[0-5]|\\d{2}|\\d)(\\.)){3}((1[0-9][0-9]|2[0-4][0-9]|25[0-5]|\\d{2}|\\d))$'\n",
    "regex_ipv6 = r'^([0-9a-fA-F]{0,4}:){7}[0-9a-fA-F]{0,4}$'\n",
    "regex_mac = r'^(([0-9a-fA-F]{2}:){5}[0-9a-fA-F]{2}|([0-9a-fA-F]{2}\\-){5}[0-9a-fA-F]{2}|([0-9a-fA-F]{3}\\.){3}[0-9a-fA-F]{3})$'\n",
    "regex_latitude = r'^[-+]?([1-8]?\\d(\\.\\d+)?|90(\\.0+)?)$'\n",
    "regex_longitude = r'^\\s*[-+]?(180(\\.0+)?|((1[0-7]\\d)|([1-9]?\\d))(\\.\\d+)?)$'\n",
    "regex_uuid = r'[0-9a-fA-F]{8}\\-([0-9a-fA-F]{4}\\-){3}[0-9a-fA-F]{12}'\n",
    "regex_ssn = r'^(?!666|000|9\\d{2})\\d{3}(-)?(?!00)\\d{2}(-)?(?!0{4})\\d{4}$'\n",
    "regex_bloodGroup = r'^(A|B|AB|O)[+-]$'\n",
    "regex_phoneNumber = r'^(\\+\\d{1,2}\\s?)?1?\\-?\\.?\\s?\\(?\\d{3}\\)?[\\s.-]?\\d{3}[\\s.-]?\\d{4}$'"
   ]
  }
 ],
 "metadata": {
  "kernelspec": {
   "display_name": "Python 3",
   "language": "python",
   "name": "python3"
  },
  "language_info": {
   "codemirror_mode": {
    "name": "ipython",
    "version": 3
   },
   "file_extension": ".py",
   "mimetype": "text/x-python",
   "name": "python",
   "nbconvert_exporter": "python",
   "pygments_lexer": "ipython3",
   "version": "3.8.5"
  }
 },
 "nbformat": 4,
 "nbformat_minor": 5
}
