{
 "cells": [
  {
   "cell_type": "markdown",
   "metadata": {},
   "source": [
    "Object Oriented Programming"
   ]
  },
  {
   "cell_type": "code",
   "execution_count": 8,
   "metadata": {},
   "outputs": [],
   "source": [
    "# We use Camel Casing for class names\n",
    "class Dog():\n",
    "    '''\n",
    "    This be a Dog Class\n",
    "    Need to save your dogs ?\n",
    "    You are welcome !\n",
    "    '''\n",
    "    # we can have  class object attribute\n",
    "    # the attribute which is same for every instance\n",
    "    # But its not like static attribute which remains same\n",
    "    # for every object\n",
    "    # every instance has its own copy of this variable\n",
    "    # However when variable is accessed by class name\n",
    "    # then if edited can cause the change in all instances\n",
    "    \n",
    "    species = 'mammal'\n",
    "    \n",
    "    def __init__(self, name):\n",
    "        self.name = name\n",
    "    \n",
    "    def bark(self):\n",
    "        print(\"Good Boy \" + self.name)\n",
    "    \n",
    "    def bark():\n",
    "        print(\"Good Boy \" + \"Nameless\")"
   ]
  },
  {
   "cell_type": "code",
   "execution_count": 9,
   "metadata": {},
   "outputs": [],
   "source": [
    "dog = Dog('Donnie')"
   ]
  },
  {
   "cell_type": "code",
   "execution_count": 10,
   "metadata": {},
   "outputs": [],
   "source": [
    "# Changing class object attribute without an object\n",
    "Dog.species = \"Amphibian\""
   ]
  },
  {
   "cell_type": "code",
   "execution_count": 11,
   "metadata": {},
   "outputs": [
    {
     "data": {
      "text/plain": [
       "'Amphibian'"
      ]
     },
     "execution_count": 11,
     "metadata": {},
     "output_type": "execute_result"
    }
   ],
   "source": [
    "# Can call class object attributes without an instance\n",
    "Dog.species"
   ]
  },
  {
   "cell_type": "code",
   "execution_count": 13,
   "metadata": {},
   "outputs": [
    {
     "name": "stdout",
     "output_type": "stream",
     "text": [
      "Good Boy Nameless\n"
     ]
    }
   ],
   "source": [
    "class doggy(Dog):\n",
    "    def bark(self)"
   ]
  },
  {
   "cell_type": "code",
   "execution_count": null,
   "metadata": {},
   "outputs": [],
   "source": []
  },
  {
   "cell_type": "code",
   "execution_count": null,
   "metadata": {},
   "outputs": [],
   "source": []
  },
  {
   "cell_type": "code",
   "execution_count": null,
   "metadata": {},
   "outputs": [],
   "source": []
  },
  {
   "cell_type": "code",
   "execution_count": null,
   "metadata": {},
   "outputs": [],
   "source": []
  },
  {
   "cell_type": "code",
   "execution_count": null,
   "metadata": {},
   "outputs": [],
   "source": []
  },
  {
   "cell_type": "code",
   "execution_count": 139,
   "metadata": {},
   "outputs": [],
   "source": [
    "class Circle():\n",
    "    \n",
    "    pi = 22/7\n",
    "    \n",
    "    def __init__(self, radius = 0):\n",
    "         self.radius = radius\n",
    "    \n",
    "    def get_area(self):\n",
    "        # Access class attribute value using class name\n",
    "        return Circle.pi * (self.radius**2)\n",
    "    \n",
    "    def get_circumference(self):\n",
    "        return Circle.pi*self.radius*2\n",
    "    \n",
    "    # magicDunder methods or special methods to overload \n",
    "    # built-in functions like print() and len()\n",
    "    # usually used to overload operators in python\n",
    "    \n",
    "    def __str__(self):\n",
    "        return f\"Circle radius : {self.radius}\\nCircle area : {self.get_area()}\"\n",
    "    \n",
    "    def __add__(self, new_circle):\n",
    "        return Circle(self.radius+new_circle.radius)\n",
    "    \n",
    "    def __gt__(self, new_circle):\n",
    "        return self.radius > new_circle.radius\n",
    "    \n",
    "    def __del__(self):\n",
    "        print(\"A Circle is deleted\")"
   ]
  },
  {
   "cell_type": "code",
   "execution_count": 142,
   "metadata": {},
   "outputs": [],
   "source": [
    "Ball = Circle(radius = 3)"
   ]
  },
  {
   "cell_type": "code",
   "execution_count": 143,
   "metadata": {},
   "outputs": [
    {
     "data": {
      "text/plain": [
       "28.285714285714285"
      ]
     },
     "execution_count": 143,
     "metadata": {},
     "output_type": "execute_result"
    }
   ],
   "source": [
    "Ball.get_area()"
   ]
  },
  {
   "cell_type": "code",
   "execution_count": 144,
   "metadata": {},
   "outputs": [
    {
     "data": {
      "text/plain": [
       "18.857142857142858"
      ]
     },
     "execution_count": 144,
     "metadata": {},
     "output_type": "execute_result"
    }
   ],
   "source": [
    "Ball.get_circumference()"
   ]
  },
  {
   "cell_type": "code",
   "execution_count": 145,
   "metadata": {},
   "outputs": [
    {
     "name": "stdout",
     "output_type": "stream",
     "text": [
      "Circle radius : 3\n",
      "Circle area : 28.285714285714285\n"
     ]
    }
   ],
   "source": [
    "print(Ball)"
   ]
  },
  {
   "cell_type": "code",
   "execution_count": 146,
   "metadata": {},
   "outputs": [],
   "source": [
    "Ball2 = Circle(10)"
   ]
  },
  {
   "cell_type": "code",
   "execution_count": 147,
   "metadata": {},
   "outputs": [],
   "source": [
    "Ball3 = Ball + Ball2"
   ]
  },
  {
   "cell_type": "code",
   "execution_count": 148,
   "metadata": {},
   "outputs": [
    {
     "name": "stdout",
     "output_type": "stream",
     "text": [
      "Circle radius : 13\n",
      "Circle area : 531.1428571428571\n"
     ]
    }
   ],
   "source": [
    "print(Ball3)"
   ]
  },
  {
   "cell_type": "code",
   "execution_count": 149,
   "metadata": {},
   "outputs": [
    {
     "data": {
      "text/plain": [
       "True"
      ]
     },
     "execution_count": 149,
     "metadata": {},
     "output_type": "execute_result"
    }
   ],
   "source": [
    "Ball3 > Ball2"
   ]
  },
  {
   "cell_type": "code",
   "execution_count": 150,
   "metadata": {},
   "outputs": [
    {
     "name": "stdout",
     "output_type": "stream",
     "text": [
      "A Circle is deleted\n"
     ]
    }
   ],
   "source": [
    "del Ball"
   ]
  },
  {
   "cell_type": "code",
   "execution_count": null,
   "metadata": {},
   "outputs": [],
   "source": []
  }
 ],
 "metadata": {
  "kernelspec": {
   "display_name": "Python 3",
   "language": "python",
   "name": "python3"
  },
  "language_info": {
   "codemirror_mode": {
    "name": "ipython",
    "version": 3
   },
   "file_extension": ".py",
   "mimetype": "text/x-python",
   "name": "python",
   "nbconvert_exporter": "python",
   "pygments_lexer": "ipython3",
   "version": "3.8.5"
  }
 },
 "nbformat": 4,
 "nbformat_minor": 2
}
